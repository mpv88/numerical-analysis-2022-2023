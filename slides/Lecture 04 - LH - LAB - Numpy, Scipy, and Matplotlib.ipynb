{
 "cells": [
  {
   "cell_type": "code",
   "execution_count": 1,
   "id": "62b583e0",
   "metadata": {},
   "outputs": [
    {
     "name": "stdout",
     "output_type": "stream",
     "text": [
      "Populating the interactive namespace from numpy and matplotlib\n"
     ]
    }
   ],
   "source": [
    "%pylab inline"
   ]
  },
  {
   "cell_type": "code",
   "execution_count": 24,
   "id": "7121a1eb",
   "metadata": {},
   "outputs": [],
   "source": [
    "A = np.arange(0,10)"
   ]
  },
  {
   "cell_type": "code",
   "execution_count": 31,
   "id": "ee0f2a45",
   "metadata": {},
   "outputs": [
    {
     "data": {
      "text/plain": [
       "(array([ 0,  1, 11,  3,  4]), array([5, 6, 7, 8, 9]))"
      ]
     },
     "execution_count": 31,
     "metadata": {},
     "output_type": "execute_result"
    }
   ],
   "source": [
    "a=5\n",
    "A[0:a], A[a:]"
   ]
  },
  {
   "cell_type": "code",
   "execution_count": 18,
   "id": "661c093b",
   "metadata": {},
   "outputs": [
    {
     "data": {
      "text/plain": [
       "(array([[0., 0.],\n",
       "        [0., 0.]]),\n",
       " array([[1., 0.],\n",
       "        [0., 0.]]))"
      ]
     },
     "execution_count": 18,
     "metadata": {},
     "output_type": "execute_result"
    }
   ],
   "source": [
    "C=A.copy()\n",
    "C[0,0] = 1\n",
    "A,C"
   ]
  },
  {
   "cell_type": "code",
   "execution_count": 46,
   "id": "62d18172",
   "metadata": {},
   "outputs": [
    {
     "data": {
      "text/plain": [
       "array([[0, 1, 2],\n",
       "       [3, 4, 5],\n",
       "       [6, 7, 8]])"
      ]
     },
     "execution_count": 46,
     "metadata": {},
     "output_type": "execute_result"
    }
   ],
   "source": [
    "A = arange(9).reshape((3,3))\n",
    "A"
   ]
  },
  {
   "cell_type": "code",
   "execution_count": 49,
   "id": "b1609c5a",
   "metadata": {},
   "outputs": [],
   "source": [
    "x = ones((1,3))"
   ]
  },
  {
   "cell_type": "code",
   "execution_count": 50,
   "id": "9167054c",
   "metadata": {},
   "outputs": [
    {
     "data": {
      "text/plain": [
       "array([[0., 1., 2.],\n",
       "       [3., 4., 5.],\n",
       "       [6., 7., 8.]])"
      ]
     },
     "execution_count": 50,
     "metadata": {},
     "output_type": "execute_result"
    }
   ],
   "source": [
    "A*x"
   ]
  },
  {
   "cell_type": "code",
   "execution_count": 51,
   "id": "a2af68de",
   "metadata": {},
   "outputs": [
    {
     "ename": "ValueError",
     "evalue": "shapes (3,3) and (1,3) not aligned: 3 (dim 1) != 1 (dim 0)",
     "output_type": "error",
     "traceback": [
      "\u001b[0;31m---------------------------------------------------------------------------\u001b[0m",
      "\u001b[0;31mValueError\u001b[0m                                Traceback (most recent call last)",
      "\u001b[0;32m<ipython-input-51-091a3d9e78cb>\u001b[0m in \u001b[0;36m<module>\u001b[0;34m\u001b[0m\n\u001b[0;32m----> 1\u001b[0;31m \u001b[0mA\u001b[0m\u001b[0;34m.\u001b[0m\u001b[0mdot\u001b[0m\u001b[0;34m(\u001b[0m\u001b[0mx\u001b[0m\u001b[0;34m)\u001b[0m\u001b[0;34m\u001b[0m\u001b[0;34m\u001b[0m\u001b[0m\n\u001b[0m",
      "\u001b[0;31mValueError\u001b[0m: shapes (3,3) and (1,3) not aligned: 3 (dim 1) != 1 (dim 0)"
     ]
    }
   ],
   "source": [
    "A.dot(x)"
   ]
  },
  {
   "cell_type": "code",
   "execution_count": 71,
   "id": "6f137998",
   "metadata": {},
   "outputs": [],
   "source": [
    "x = arange(3)"
   ]
  },
  {
   "cell_type": "code",
   "execution_count": 72,
   "id": "574c1421",
   "metadata": {},
   "outputs": [],
   "source": [
    "y = arange(3,6)"
   ]
  },
  {
   "cell_type": "code",
   "execution_count": 73,
   "id": "b2b569ff",
   "metadata": {},
   "outputs": [
    {
     "data": {
      "text/plain": [
       "(array([0, 1, 2]), array([3, 4, 5]))"
      ]
     },
     "execution_count": 73,
     "metadata": {},
     "output_type": "execute_result"
    }
   ],
   "source": [
    "x, y"
   ]
  },
  {
   "cell_type": "code",
   "execution_count": 81,
   "id": "760b7c7b",
   "metadata": {},
   "outputs": [
    {
     "data": {
      "text/plain": [
       "(14,\n",
       " array([[ 0,  0,  0],\n",
       "        [ 3,  4,  5],\n",
       "        [ 6,  8, 10]]))"
      ]
     },
     "execution_count": 81,
     "metadata": {},
     "output_type": "execute_result"
    }
   ],
   "source": [
    "einsum('i,i', x, y) , einsum('i,j -> ij', x, y)"
   ]
  },
  {
   "cell_type": "code",
   "execution_count": 60,
   "id": "8d9d9a8d",
   "metadata": {},
   "outputs": [],
   "source": [
    "x = x.reshape((1,3))"
   ]
  },
  {
   "cell_type": "code",
   "execution_count": 61,
   "id": "d775a09d",
   "metadata": {},
   "outputs": [
    {
     "data": {
      "text/plain": [
       "array([[0, 1, 2]])"
      ]
     },
     "execution_count": 61,
     "metadata": {},
     "output_type": "execute_result"
    }
   ],
   "source": [
    "x"
   ]
  },
  {
   "cell_type": "code",
   "execution_count": 62,
   "id": "6968c612",
   "metadata": {},
   "outputs": [
    {
     "data": {
      "text/plain": [
       "array([[ 0,  4, 10]])"
      ]
     },
     "execution_count": 62,
     "metadata": {},
     "output_type": "execute_result"
    }
   ],
   "source": [
    "x*y"
   ]
  },
  {
   "cell_type": "code",
   "execution_count": 63,
   "id": "e20d1ba0",
   "metadata": {},
   "outputs": [
    {
     "data": {
      "text/plain": [
       "array([[ 0,  4, 10]])"
      ]
     },
     "execution_count": 63,
     "metadata": {},
     "output_type": "execute_result"
    }
   ],
   "source": [
    "y*x"
   ]
  },
  {
   "cell_type": "code",
   "execution_count": 64,
   "id": "d1b64095",
   "metadata": {},
   "outputs": [],
   "source": [
    "y = y.reshape((3,1))"
   ]
  },
  {
   "cell_type": "code",
   "execution_count": 65,
   "id": "7a26d79d",
   "metadata": {},
   "outputs": [
    {
     "data": {
      "text/plain": [
       "array([[ 0,  3,  6],\n",
       "       [ 0,  4,  8],\n",
       "       [ 0,  5, 10]])"
      ]
     },
     "execution_count": 65,
     "metadata": {},
     "output_type": "execute_result"
    }
   ],
   "source": [
    "A = y*x"
   ]
  },
  {
   "cell_type": "code",
   "execution_count": 66,
   "id": "ec0d6ebb",
   "metadata": {},
   "outputs": [
    {
     "data": {
      "text/plain": [
       "array([[3],\n",
       "       [4],\n",
       "       [5]])"
      ]
     },
     "execution_count": 66,
     "metadata": {},
     "output_type": "execute_result"
    }
   ],
   "source": [
    "y"
   ]
  },
  {
   "cell_type": "code",
   "execution_count": 67,
   "id": "4545ae0e",
   "metadata": {},
   "outputs": [
    {
     "data": {
      "text/plain": [
       "array([[0, 1, 2]])"
      ]
     },
     "execution_count": 67,
     "metadata": {},
     "output_type": "execute_result"
    }
   ],
   "source": [
    "x"
   ]
  },
  {
   "cell_type": "code",
   "execution_count": 69,
   "id": "a56a5f0e",
   "metadata": {},
   "outputs": [
    {
     "ename": "TypeError",
     "evalue": "_outer_dispatcher() missing 1 required positional argument: 'b'",
     "output_type": "error",
     "traceback": [
      "\u001b[0;31m---------------------------------------------------------------------------\u001b[0m",
      "\u001b[0;31mTypeError\u001b[0m                                 Traceback (most recent call last)",
      "\u001b[0;32m<ipython-input-69-b4f76f26db7d>\u001b[0m in \u001b[0;36m<module>\u001b[0;34m\u001b[0m\n\u001b[0;32m----> 1\u001b[0;31m \u001b[0mouter\u001b[0m\u001b[0;34m(\u001b[0m\u001b[0my\u001b[0m\u001b[0;34m*\u001b[0m\u001b[0mx\u001b[0m\u001b[0;34m)\u001b[0m\u001b[0;34m\u001b[0m\u001b[0;34m\u001b[0m\u001b[0m\n\u001b[0m",
      "\u001b[0;32m<__array_function__ internals>\u001b[0m in \u001b[0;36mouter\u001b[0;34m(*args, **kwargs)\u001b[0m\n",
      "\u001b[0;31mTypeError\u001b[0m: _outer_dispatcher() missing 1 required positional argument: 'b'"
     ]
    }
   ],
   "source": [
    "outer(x)"
   ]
  },
  {
   "cell_type": "code",
   "execution_count": 84,
   "id": "b8dfe402",
   "metadata": {},
   "outputs": [
    {
     "data": {
      "text/plain": [
       "array([[9., 9., 9.],\n",
       "       [9., 9., 9.],\n",
       "       [9., 9., 9.]])"
      ]
     },
     "execution_count": 84,
     "metadata": {},
     "output_type": "execute_result"
    }
   ],
   "source": [
    "C = np.ones((3,3,3,3))\n",
    "T = np.ones((3,3))\n",
    "K = np.ones((3,3))\n",
    "\n",
    "einsum('ijkl, kl', C, T) # =sum_k sum_l C[i,j,k,l] T[k,l]"
   ]
  },
  {
   "cell_type": "code",
   "execution_count": 107,
   "id": "4be3a932",
   "metadata": {},
   "outputs": [],
   "source": [
    "A = arange(0,100)\n",
    "AC = A.reshape((10,10), order='C')\n",
    "AF = A.reshape((10,10), order='F')\n",
    "\n",
    "# for i in range(10):\n",
    "#     for j in range(10):\n",
    "#         AC[i,j] == AF[j,i] = A[i*10+j]"
   ]
  },
  {
   "cell_type": "code",
   "execution_count": 108,
   "id": "5cba579e",
   "metadata": {},
   "outputs": [
    {
     "data": {
      "text/plain": [
       "array([[ 0,  1,  2,  3,  4,  5,  6,  7,  8,  9],\n",
       "       [10, 11, 12, 13, 14, 15, 16, 17, 18, 19],\n",
       "       [20, 21, 22, 23, 24, 25, 26, 27, 28, 29],\n",
       "       [30, 31, 32, 33, 34, 35, 36, 37, 38, 39],\n",
       "       [40, 41, 42, 43, 44, 45, 46, 47, 48, 49],\n",
       "       [50, 51, 52, 53, 54, 55, 56, 57, 58, 59],\n",
       "       [60, 61, 62, 63, 64, 65, 66, 67, 68, 69],\n",
       "       [70, 71, 72, 73, 74, 75, 76, 77, 78, 79],\n",
       "       [80, 81, 82, 83, 84, 85, 86, 87, 88, 89],\n",
       "       [90, 91, 92, 93, 94, 95, 96, 97, 98, 99]])"
      ]
     },
     "execution_count": 108,
     "metadata": {},
     "output_type": "execute_result"
    }
   ],
   "source": [
    "AC"
   ]
  },
  {
   "cell_type": "code",
   "execution_count": 109,
   "id": "4bd0065d",
   "metadata": {},
   "outputs": [],
   "source": [
    "x = linspace(-1,1,50)\n",
    "y = linspace(-1,1,50)\n",
    "\n",
    "X, Y = meshgrid(x,y)"
   ]
  },
  {
   "cell_type": "code",
   "execution_count": 110,
   "id": "645312ad",
   "metadata": {},
   "outputs": [
    {
     "data": {
      "text/plain": [
       "((50,), (50,), (50, 50), (50, 50))"
      ]
     },
     "execution_count": 110,
     "metadata": {},
     "output_type": "execute_result"
    }
   ],
   "source": [
    "x.shape, y.shape, X.shape, Y.shape"
   ]
  },
  {
   "cell_type": "code",
   "execution_count": 129,
   "id": "bf3728ca",
   "metadata": {},
   "outputs": [],
   "source": [
    "def norm(a, p = 2):\n",
    "    if p == 'oo':\n",
    "        return np.max(abs(a))\n",
    "    else :\n",
    "        return (sum(abs(a)**p))**(1/p)"
   ]
  },
  {
   "cell_type": "code",
   "execution_count": 130,
   "id": "9e6c9550",
   "metadata": {},
   "outputs": [],
   "source": [
    "a = array([3,4,5])"
   ]
  },
  {
   "cell_type": "code",
   "execution_count": 131,
   "id": "a42db5c7",
   "metadata": {},
   "outputs": [],
   "source": [
    "a = arange(10).reshape((2,5))"
   ]
  },
  {
   "cell_type": "code",
   "execution_count": 132,
   "id": "90ad865e",
   "metadata": {},
   "outputs": [
    {
     "data": {
      "text/plain": [
       "array([[0, 1, 2, 3, 4],\n",
       "       [5, 6, 7, 8, 9]])"
      ]
     },
     "execution_count": 132,
     "metadata": {},
     "output_type": "execute_result"
    }
   ],
   "source": [
    "a"
   ]
  },
  {
   "cell_type": "code",
   "execution_count": 134,
   "id": "1532577a",
   "metadata": {},
   "outputs": [
    {
     "data": {
      "text/plain": [
       "16.881943016134134"
      ]
     },
     "execution_count": 134,
     "metadata": {},
     "output_type": "execute_result"
    }
   ],
   "source": [
    "norm(a, 2)"
   ]
  },
  {
   "cell_type": "code",
   "execution_count": 135,
   "id": "85346f3c",
   "metadata": {},
   "outputs": [],
   "source": [
    "np.linalg.norm?"
   ]
  },
  {
   "cell_type": "code",
   "execution_count": null,
   "id": "653a8e68",
   "metadata": {},
   "outputs": [],
   "source": []
  }
 ],
 "metadata": {
  "kernelspec": {
   "display_name": "Python 3",
   "language": "python",
   "name": "python3"
  },
  "language_info": {
   "codemirror_mode": {
    "name": "ipython",
    "version": 3
   },
   "file_extension": ".py",
   "mimetype": "text/x-python",
   "name": "python",
   "nbconvert_exporter": "python",
   "pygments_lexer": "ipython3",
   "version": "3.8.8"
  }
 },
 "nbformat": 4,
 "nbformat_minor": 5
}
