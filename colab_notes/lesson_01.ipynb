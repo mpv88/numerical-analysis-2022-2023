{
  "nbformat": 4,
  "nbformat_minor": 0,
  "metadata": {
    "colab": {
      "provenance": [],
      "collapsed_sections": []
    },
    "kernelspec": {
      "name": "python3",
      "display_name": "Python 3"
    }
  },
  "cells": [
    {
      "cell_type": "code",
      "metadata": {
        "id": "nBRV2RxG9xeu",
        "outputId": "fad8d214-344f-4b76-9b1a-04994f227ce2",
        "colab": {
          "base_uri": "https://localhost:8080/"
        }
      },
      "source": [
        "%pylab inline"
      ],
      "execution_count": null,
      "outputs": [
        {
          "output_type": "stream",
          "name": "stdout",
          "text": [
            "Populating the interactive namespace from numpy and matplotlib\n"
          ]
        }
      ]
    },
    {
      "cell_type": "code",
      "metadata": {
        "id": "Cu6G9Myw-wS_"
      },
      "source": [
        "def FD(f, x, h):\n",
        "  return (f(x+h)-f(x))/h\n",
        "\n",
        "def CFD(f, x, h):\n",
        "  return (f(x+h)-f(x-h))/(2*h)\n",
        "\n",
        "def myfun(x):\n",
        "  return sin(x)\n",
        "\n",
        "def exact(x):\n",
        "  return cos(x)"
      ],
      "execution_count": null,
      "outputs": []
    },
    {
      "cell_type": "code",
      "metadata": {
        "id": "WE07t1j_-9RN"
      },
      "source": [
        "x0 = 1\n",
        "\n",
        "H = [2**(-i) for i in range(1,75)]"
      ],
      "execution_count": null,
      "outputs": []
    },
    {
      "cell_type": "code",
      "source": [
        "error  = [abs(exact(x0) -  FD(myfun, x0, h)) for h in H]\n",
        "error2  = [abs(exact(x0) -  CFD(myfun, x0, h)) for h in H]"
      ],
      "metadata": {
        "id": "1SR0KIxPARFN"
      },
      "execution_count": null,
      "outputs": []
    },
    {
      "cell_type": "code",
      "source": [
        "dd"
      ],
      "metadata": {
        "id": "ZeNAY5LXA7il"
      },
      "execution_count": null,
      "outputs": []
    },
    {
      "cell_type": "code",
      "source": [
        "loglog(H, error, 'ro-')\n",
        "loglog(H, error2, 'go-')"
      ],
      "metadata": {
        "colab": {
          "base_uri": "https://localhost:8080/",
          "height": 287
        },
        "id": "O4d5gDFdBTHI",
        "outputId": "d7574356-a9ec-4a06-b0da-a6e6dd46fd07"
      },
      "execution_count": null,
      "outputs": [
        {
          "output_type": "execute_result",
          "data": {
            "text/plain": [
              "[<matplotlib.lines.Line2D at 0x7f315125fd50>]"
            ]
          },
          "metadata": {},
          "execution_count": 26
        },
        {
          "output_type": "display_data",
          "data": {
            "text/plain": [
              "<Figure size 432x288 with 1 Axes>"
            ],
            "image/png": "[encoded data removed]"
          },
          "metadata": {
            "needs_background": "light"
          }
        }
      ]
    },
    {
      "cell_type": "code",
      "metadata": {
        "id": "gFGhg-e2_fYZ"
      },
      "source": [
        "loglog(H, error, 'ro-')b\n",
        "loglog(H, error2, 'bo-')"
      ],
      "execution_count": null,
      "outputs": []
    },
    {
      "cell_type": "code",
      "source": [
        "pi"
      ],
      "metadata": {
        "colab": {
          "base_uri": "https://localhost:8080/"
        },
        "id": "vKy2Cv-5Ct4v",
        "outputId": "8164e4f2-951a-421b-c020-5d447b674c9e"
      },
      "execution_count": null,
      "outputs": [
        {
          "output_type": "execute_result",
          "data": {
            "text/plain": [
              "3.141592653589793"
            ]
          },
          "metadata": {},
          "execution_count": 11
        }
      ]
    },
    {
      "cell_type": "code",
      "source": [
        "x = linspace(0,1)"
      ],
      "metadata": {
        "id": "YLgRDP5wCuML"
      },
      "execution_count": null,
      "outputs": []
    },
    {
      "cell_type": "code",
      "source": [
        "y = sin(x)"
      ],
      "metadata": {
        "id": "HYA8tKgDC_qH"
      },
      "execution_count": null,
      "outputs": []
    },
    {
      "cell_type": "code",
      "source": [
        "plot(x,y)\n",
        "\n",
        "x0 = 0.4\n",
        "h  = 0.5\n",
        "plot([x0, x0+h], [sin(x0), sin(x0+h)], 'ro-')"
      ],
      "metadata": {
        "colab": {
          "base_uri": "https://localhost:8080/",
          "height": 283
        },
        "id": "dPR2XoPRDBTM",
        "outputId": "19fed539-0e85-48ae-b8d9-d7501ddd63cb"
      },
      "execution_count": null,
      "outputs": [
        {
          "output_type": "execute_result",
          "data": {
            "text/plain": [
              "[<matplotlib.lines.Line2D at 0x7f315136c590>]"
            ]
          },
          "metadata": {},
          "execution_count": 20
        },
        {
          "output_type": "display_data",
          "data": {
            "text/plain": [
              "<Figure size 432x288 with 1 Axes>"
            ],
            "image/png": "[encoded data removed]"
          },
          "metadata": {
            "needs_background": "light"
          }
        }
      ]
    },
    {
      "cell_type": "code",
      "source": [
        "1+1e-16"
      ],
      "metadata": {
        "colab": {
          "base_uri": "https://localhost:8080/"
        },
        "id": "mNCdW8cdDCCQ",
        "outputId": "7214ee9d-7a5e-4e07-ef01-4f08a877afab"
      },
      "execution_count": null,
      "outputs": [
        {
          "output_type": "execute_result",
          "data": {
            "text/plain": [
              "1.0"
            ]
          },
          "metadata": {},
          "execution_count": 21
        }
      ]
    },
    {
      "cell_type": "code",
      "source": [],
      "metadata": {
        "id": "93FDt9pIFDGo"
      },
      "execution_count": null,
      "outputs": []
    }
  ]
}